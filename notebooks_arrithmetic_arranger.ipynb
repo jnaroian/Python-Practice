{
  "metadata": {
    "language_info": {
      "codemirror_mode": {
        "name": "python",
        "version": 3
      },
      "file_extension": ".py",
      "mimetype": "text/x-python",
      "name": "python",
      "nbconvert_exporter": "python",
      "pygments_lexer": "ipython3",
      "version": "3.8"
    },
    "kernelspec": {
      "name": "python",
      "display_name": "Python (Pyodide)",
      "language": "python"
    }
  },
  "nbformat_minor": 4,
  "nbformat": 4,
  "cells": [
    {
      "cell_type": "code",
      "source": "def arithmetic_arranger(problems, include_answer=False):\n  pr=[]\n  sol=0\n  linum=''\n  stone=''\n  stwo=''\n  sthree=''\n  stour=''\n  arranged_problems=''\n  for probl in problems:\n    if probl.islower() or probl.isupper():\n        return ('Error: Numbers must only contain digits.')\n        break\n  if len(problems)>5:\n    return ('Error: Too many problems.') \n  else:\n    for prob in problems:\n      pr=prob.split()\n      if len(pr[0])>4 or len(pr[2])>4:\n        return ('Error: Numbers cannot be more than four digits.') \n        break\n      elif pr[1]!= '+' and pr[1]!='-':\n        return('Error: Operator must be \\'+\\' or \\'-\\'.')\n        break\n    for prob in problems:\n        pr=prob.split()\n        if len(pr[0])>len(pr[2]):\n            linum='-'*(len(pr[0])+2)\n        else:\n            linum='-'*(len(pr[2])+2)\n        if prob is problems[-1]:\n            stone+=((' '*(len(linum)-len(pr[0])))+pr[0]+'    ')\n        else:\n            stone+=((' '*(len(linum)-len(pr[0])))+pr[0]+'    ')\n    for prob in problems:\n        pr=prob.split()\n        if len(pr[0])>len(pr[2]):\n            linum='-'*(len(pr[0])+2)\n        else:\n            linum='-'*(len(pr[2])+2)\n        if prob is problems[-1]:\n            stwo+= (pr[1]+(len(linum)-(len(pr[2])+1))*' '+pr[2]+'    ')\n        else:\n            stwo+= (pr[1]+(len(linum)-(len(pr[2])+1))*' '+pr[2]+'    ')\n    for prob in problems:\n        pr=prob.split()\n        if len(pr[0])>len(pr[2]):\n            linum='-'*(len(pr[0])+2)\n        else:\n            linum='-'*(len(pr[2])+2)\n        if prob is problems[-1]:\n            sthree+=(linum+'    ')\n        else:\n            sthree+=(linum+'    ')\n    for prob in problems:\n        pr=prob.split()\n        if len(pr[0])>len(pr[2]):\n            linum='-'*(len(pr[0])+2)\n        else:\n            linum='-'*(len(pr[2])+2)\n        if pr[1]=='+':\n            sol=int(pr[0])+int(pr[2])\n        else:\n            sol=int(pr[0])-int(pr[2])\n        stour+=((len(linum)-len(str(sol)))*' '+str(sol)+'    ')\n    if include_answer==True:\n        arranged_problems= (stone+'\\n'+stwo+'\\n'+sthree+'\\n'+stour)\n    else:\n        arranged_problems= stone+'\\n'+stwo+'\\n'+sthree\n    return(arranged_problems)\narithmetic_arranger([\"11 + 4\", \"3801 - 2999\", \"1 + 2\", \"123 + 49\", \"1 - 9380\"])",
      "metadata": {},
      "execution_count": null,
      "outputs": []
    }
  ]
}
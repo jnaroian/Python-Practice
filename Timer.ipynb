{
 "cells": [
  {
   "cell_type": "code",
   "execution_count": 5,
   "id": "33bf4cc5",
   "metadata": {
    "scrolled": false
   },
   "outputs": [
    {
     "name": "stdout",
     "output_type": "stream",
     "text": [
      "3:67 PM\n"
     ]
    }
   ],
   "source": [
    "def add_time(start, duration, day='Monday'):\n",
    "    startim=''\n",
    "    durtim=''\n",
    "    fintim=''\n",
    "    new_time=''\n",
    "    flipcounter=0\n",
    "    opp=''\n",
    "    for char in start:\n",
    "        if char.isnumeric():\n",
    "            startim+=char\n",
    "        elif char==':':\n",
    "            startim+='.'\n",
    "    for numb in duration:\n",
    "        if numb==':':\n",
    "            durtim+='.'\n",
    "        else:\n",
    "            durtim+=numb\n",
    "    fintim=float(startim)*(5/3)+float(durtim)*(5/3)\n",
    "    while fintim>20:\n",
    "        fintim-=(55/3)\n",
    "        flipcounter+=1\n",
    "\n",
    "    fintim/=(5/3)\n",
    "    if fintim<9.59:\n",
    "        fintim=(str(fintim)[:4])\n",
    "    else:\n",
    "        fintim=(str(fintim)[:5])\n",
    "    for char in str(fintim):\n",
    "        if char=='.':\n",
    "            new_time+=':'\n",
    "        else:\n",
    "            new_time+=char\n",
    "    if start[-2:]=='AM':\n",
    "        opp='PM'\n",
    "    else:\n",
    "        opp='AM'\n",
    "    if flipcounter%2==0:\n",
    "        new_time+=' '+start[-2:]\n",
    "    else:\n",
    "        new_time+=' '+opp\n",
    "    print(new_time)\n",
    "add_time(\"11:55 AM\", \"3:12\")"
   ]
  },
  {
   "cell_type": "code",
   "execution_count": null,
   "id": "7b265bef",
   "metadata": {},
   "outputs": [],
   "source": []
  }
 ],
 "metadata": {
  "kernelspec": {
   "display_name": "Python 3 (ipykernel)",
   "language": "python",
   "name": "python3"
  },
  "language_info": {
   "codemirror_mode": {
    "name": "ipython",
    "version": 3
   },
   "file_extension": ".py",
   "mimetype": "text/x-python",
   "name": "python",
   "nbconvert_exporter": "python",
   "pygments_lexer": "ipython3",
   "version": "3.9.12"
  }
 },
 "nbformat": 4,
 "nbformat_minor": 5
}

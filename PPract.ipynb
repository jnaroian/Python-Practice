{
 "cells": [
  {
   "cell_type": "code",
   "execution_count": 9,
   "id": "ff26d327-0dde-4388-832f-29cf0ac3e39e",
   "metadata": {},
   "outputs": [
    {
     "name": "stdin",
     "output_type": "stream",
     "text": [
      "Enter guess:  grap\n",
      "Enter guess:  grap\n",
      "Enter guess:  grap\n"
     ]
    },
    {
     "name": "stdout",
     "output_type": "stream",
     "text": [
      "You got the first letter right\n"
     ]
    }
   ],
   "source": [
    "secret_word = \"giraffe\"\n",
    "guess= \"\"\n",
    "guess_counter = 0\n",
    "while guess!=secret_word and guess_counter<3:\n",
    "    guess = input(\"Enter guess: \")\n",
    "    guess_counter +=1\n",
    "if guess==secret_word:\n",
    "    print(\"You win!\")\n",
    "elif guess[0]==\"g\":\n",
    "    print(\"You got the first letter right\")\n",
    "else:\n",
    "    print(\"No more guesses left!\")"
   ]
  },
  {
   "cell_type": "code",
   "execution_count": 20,
   "id": "aceac43b-90f8-4194-97db-052f52e27e99",
   "metadata": {},
   "outputs": [
    {
     "name": "stdout",
     "output_type": "stream",
     "text": [
      "1\n",
      "2\n",
      "3\n",
      "4\n",
      "5\n",
      "6\n",
      "7\n"
     ]
    }
   ],
   "source": [
    "numbers = [1,2,3,4,5,6,7]\n",
    "for number in numbers:\n",
    "    print(number)\n"
   ]
  },
  {
   "cell_type": "code",
   "execution_count": 17,
   "id": "f7ce4964-be46-44f4-8d2b-abc3dfb06d91",
   "metadata": {},
   "outputs": [
    {
     "name": "stdout",
     "output_type": "stream",
     "text": [
      "4096\n"
     ]
    }
   ],
   "source": [
    "def exponent_calculator(base,power):\n",
    "    result =1\n",
    "    for index in range(power):\n",
    "        result = result * base\n",
    "    return result\n",
    "print (exponent_calculator(4,6))"
   ]
  },
  {
   "cell_type": "code",
   "execution_count": 35,
   "id": "3fa4b4b3-2a0d-49f5-bef9-1bfa5621922b",
   "metadata": {},
   "outputs": [
    {
     "name": "stdin",
     "output_type": "stream",
     "text": [
      "Enter a phrase:  Are you ok?\n"
     ]
    },
    {
     "name": "stdout",
     "output_type": "stream",
     "text": [
      "Grg ygg gk?\n"
     ]
    }
   ],
   "source": [
    "def translate(phrase):\n",
    "    translation=\"\"\n",
    "    for letter in phrase:\n",
    "        if letter.lower() in \"aeiou\":\n",
    "            if letter.isupper():\n",
    "                translation = translation+\"G\"\n",
    "            else:\n",
    "                translation = translation + \"g\"\n",
    "        else: translation = translation + letter\n",
    "    return translation\n",
    "print(translate(input(\"Enter a phrase: \")))"
   ]
  },
  {
   "cell_type": "code",
   "execution_count": 54,
   "id": "e170c5c5-4ab8-4776-b9c1-304823299d94",
   "metadata": {},
   "outputs": [
    {
     "name": "stdin",
     "output_type": "stream",
     "text": [
      "Enter radian value:  1\n"
     ]
    },
    {
     "name": "stdout",
     "output_type": "stream",
     "text": [
      "57.29577951308232\n"
     ]
    }
   ],
   "source": [
    "import math\n",
    "def r_2_d(radian):\n",
    "    pi = math.pi\n",
    "    degrees = (float(radian) * 180)/pi\n",
    "    return degrees\n",
    "print(r_2_d(input(\"Enter radian value: \")))"
   ]
  },
  {
   "cell_type": "code",
   "execution_count": 34,
   "id": "97b2c1d2-5bfb-4844-907a-2e2933b6b5f8",
   "metadata": {},
   "outputs": [
    {
     "name": "stdin",
     "output_type": "stream",
     "text": [
      "Enter an order:  but\n",
      "Enter your numbers:  341452352345\n"
     ]
    },
    {
     "name": "stdout",
     "output_type": "stream",
     "text": [
      "Choose a command, asc, des, or none\n",
      "None\n"
     ]
    }
   ],
   "source": [
    "def list_order(order, string):\n",
    "    your_list = []\n",
    "    for number in string:\n",
    "        your_list.append(number)\n",
    "    if order== 'asc':\n",
    "        your_list.sort()\n",
    "        return your_list\n",
    "    elif order == 'des':\n",
    "        your_list.sort()\n",
    "        your_list.reverse()\n",
    "        return your_list\n",
    "    elif order == 'none':\n",
    "        return your_list\n",
    "    else:\n",
    "        print('Choose a command, asc, des, or none')\n",
    "print(list_order(input('Enter an order: '), input('Enter your numbers: ')))"
   ]
  },
  {
   "cell_type": "code",
   "execution_count": 105,
   "id": "896a4181-a7c0-4d94-b891-b02c1f2b40e8",
   "metadata": {},
   "outputs": [
    {
     "name": "stdin",
     "output_type": "stream",
     "text": [
      "enter a decimal:  8\n"
     ]
    },
    {
     "name": "stdout",
     "output_type": "stream",
     "text": [
      "1000\n"
     ]
    }
   ],
   "source": [
    "def decimal_to_binary(decimal):\n",
    "    decimal = int(decimal)\n",
    "    i = 0\n",
    "    bina = ''\n",
    "    bin_list=[]\n",
    "    orig = decimal\n",
    "    binary = ''\n",
    "    while 2**i <= orig:\n",
    "        j =int(decimal)%2\n",
    "        decimal = math.floor(decimal)/2\n",
    "        bina = bina + str(j)\n",
    "        i+=1\n",
    "    for number in bina:\n",
    "        bin_list.append(number)\n",
    "    bin_list.reverse()\n",
    "    for number in bin_list:\n",
    "        binary = binary + str(number)\n",
    "    print(binary)\n",
    "decimal_to_binary(input(\"Enter a decimal: \"))\n",
    "    \n",
    "    "
   ]
  },
  {
   "cell_type": "code",
   "execution_count": 110,
   "id": "ed4e5b88-8ec2-4031-b525-3947f86f11a2",
   "metadata": {},
   "outputs": [
    {
     "name": "stdin",
     "output_type": "stream",
     "text": [
      "Enter a word:  danimals sweepstakes\n"
     ]
    },
    {
     "name": "stdout",
     "output_type": "stream",
     "text": [
      "7\n"
     ]
    }
   ],
   "source": [
    "def number_of_vowels(word):\n",
    "    vowels = 0\n",
    "    for letter in word:\n",
    "        if letter in \"AEIOUaeiou\":\n",
    "            vowels+=1\n",
    "    print(vowels)\n",
    "number_of_vowels(input(\"Enter a word: \"))       "
   ]
  },
  {
   "cell_type": "code",
   "execution_count": 112,
   "id": "410629f6-bc39-44ea-a1aa-472ea39377f7",
   "metadata": {},
   "outputs": [
    {
     "name": "stdin",
     "output_type": "stream",
     "text": [
      "Credit Card 2345654323456765\n"
     ]
    },
    {
     "name": "stdout",
     "output_type": "stream",
     "text": [
      "************6765\n"
     ]
    }
   ],
   "source": [
    "def credit_card_hider(number):\n",
    "    hidden = ''\n",
    "    if len(number)== 16:\n",
    "        hidden = '************'+ (number[12:])\n",
    "        print(hidden)\n",
    "    else:\n",
    "        print('Please enter a 16 digit credit card, no spaces')\n",
    "credit_card_hider(input('Credit Card'))"
   ]
  },
  {
   "cell_type": "code",
   "execution_count": 118,
   "id": "f92afa93-d54d-4b6d-b0b0-96700788ae87",
   "metadata": {},
   "outputs": [
    {
     "name": "stdin",
     "output_type": "stream",
     "text": [
      "Type a string fwjkebkwejcn\n"
     ]
    },
    {
     "name": "stdout",
     "output_type": "stream",
     "text": [
      "True\n"
     ]
    }
   ],
   "source": [
    "def exes_and_ohs(string):\n",
    "    xcount = 0\n",
    "    ocount = 0\n",
    "    for letter in string:\n",
    "        if letter.lower() in 'x':\n",
    "            xcount+=1\n",
    "        elif letter.lower() in 'o':\n",
    "            ocount+=1\n",
    "    print(ocount==xcount)\n",
    "exes_and_ohs(input('Type a string'))"
   ]
  },
  {
   "cell_type": "code",
   "execution_count": 124,
   "id": "ad7b4184-ed36-495d-a2c4-ac9009264b2c",
   "metadata": {},
   "outputs": [
    {
     "name": "stdin",
     "output_type": "stream",
     "text": [
      "Enter a number:  8\n",
      "Enter an operator:  /\n",
      "Enter another number:  2\n"
     ]
    },
    {
     "name": "stdout",
     "output_type": "stream",
     "text": [
      "4.0\n"
     ]
    }
   ],
   "source": [
    "def calculator(num1,op,num2):\n",
    "    if op=='+':\n",
    "        answer = int(num1)+int(num2)\n",
    "    elif op=='-':\n",
    "        answer = int(num1)-int(num2)\n",
    "    elif op=='*':\n",
    "        answer = int(num1)*int(num2)\n",
    "    elif op=='/':\n",
    "        answer = int(num1)/int(num2)\n",
    "    else:\n",
    "        print(\"Enter a valid operator please\")\n",
    "    print(answer)\n",
    "calculator(input('Enter a number: '),input('Enter an operator: '),input('Enter another number: '))"
   ]
  },
  {
   "cell_type": "code",
   "execution_count": 140,
   "id": "066551ca-8f05-4a59-a01c-5b6b7089e003",
   "metadata": {},
   "outputs": [
    {
     "name": "stdin",
     "output_type": "stream",
     "text": [
      "Enter pre-sale price 1000\n",
      "Enter discount percent 50%\n"
     ]
    },
    {
     "name": "stdout",
     "output_type": "stream",
     "text": [
      "500\n"
     ]
    }
   ],
   "source": [
    "def discount(price, sale):\n",
    "    if sale[-1]=='%':\n",
    "        salep = 1-(int(sale[:-1]))/100\n",
    "        nu_price = float(price)*float(salep)\n",
    "    else:\n",
    "        nu_price = (1-(float(sale)/100))*float(price)\n",
    "    print (math.ceil(nu_price))\n",
    "discount(input(\"Enter pre-sale price\"),input(\"Enter discount percent\"))"
   ]
  },
  {
   "cell_type": "code",
   "execution_count": 149,
   "id": "97e245f1-ab07-473a-80d5-22ff8263a8e0",
   "metadata": {},
   "outputs": [
    {
     "name": "stdin",
     "output_type": "stream",
     "text": [
      "Enter a string of number and letters w984w834r34jdr8934drjd\n"
     ]
    },
    {
     "name": "stdout",
     "output_type": "stream",
     "text": [
      "984834348934\n"
     ]
    }
   ],
   "source": [
    "def just_numbers(string):\n",
    "    nu_string=''\n",
    "    for character in string:\n",
    "        if character in '123456789':\n",
    "            nu_string = nu_string+ character\n",
    "        else:\n",
    "            nu_string = nu_string\n",
    "    print(nu_string)\n",
    "just_numbers(input('Enter a string of number and letters'))"
   ]
  },
  {
   "cell_type": "code",
   "execution_count": 151,
   "id": "3a6b3709-219e-4fa7-bef1-72fc2b7e7a82",
   "metadata": {},
   "outputs": [
    {
     "name": "stdin",
     "output_type": "stream",
     "text": [
      "Enter a string:  how are you doing\n"
     ]
    },
    {
     "name": "stdout",
     "output_type": "stream",
     "text": [
      "hhooww  aarree  yyoouu  ddooiinngg\n"
     ]
    }
   ],
   "source": [
    "def double_string(string):\n",
    "    nu_string=''\n",
    "    for character in string:\n",
    "        nu_string = nu_string + character + character\n",
    "    print(nu_string)\n",
    "double_string(input('Enter a string: '))"
   ]
  },
  {
   "cell_type": "code",
   "execution_count": 7,
   "id": "ba8fc23e-6e69-446d-9a74-b164bd7eb2c1",
   "metadata": {},
   "outputs": [
    {
     "name": "stdin",
     "output_type": "stream",
     "text": [
      " 10\n"
     ]
    },
    {
     "name": "stdout",
     "output_type": "stream",
     "text": [
      "1\n",
      "2\n",
      "Fizz\n",
      "4\n",
      "Buzz\n",
      "Fizz\n",
      "7\n",
      "8\n",
      "Fizz\n",
      "Buzz\n"
     ]
    }
   ],
   "source": [
    "def Fizz_Buzz(number):\n",
    "    i=0\n",
    "    while i<int(number):\n",
    "        i+=1\n",
    "        if i%3==0 and i%5!=0:\n",
    "            print('Fizz')\n",
    "        elif i%5==0 and i%3!=0:\n",
    "            print('Buzz')\n",
    "        elif i%15==0:\n",
    "            print('FizzBuzz')\n",
    "        else:\n",
    "            print(i)\n",
    "Fizz_Buzz(input())\n",
    "        "
   ]
  },
  {
   "cell_type": "code",
   "execution_count": 15,
   "id": "dbdf1a18-eb9b-4b2c-bc17-e6c2b8652d96",
   "metadata": {},
   "outputs": [
    {
     "name": "stdout",
     "output_type": "stream",
     "text": [
      "[7, 6, 5, 4, 3, 2, 1]\n"
     ]
    }
   ],
   "source": [
    "numlist=[1,2,3,4,5,6,7]\n",
    "numlist.reverse()\n",
    "print(numlist)"
   ]
  },
  {
   "cell_type": "code",
   "execution_count": 16,
   "id": "d8e2ef9c-0f7c-4a3e-afa5-dc5b156afedd",
   "metadata": {},
   "outputs": [
    {
     "name": "stdout",
     "output_type": "stream",
     "text": [
      "[1, 2, 3, 4, 6, 8, 12]\n",
      "5\n"
     ]
    }
   ],
   "source": [
    "def sum_of_prime_factors(n):\n",
    "  i=1\n",
    "  factors=[]\n",
    "  sum=0\n",
    "#v Creates list of factors of n\n",
    "  while i<n:\n",
    "    if n%i==0:\n",
    "      factors.append(i)\n",
    "    i+=1\n",
    "  print(factors)\n",
    "#v Takes list factors and adds up all prime numbers \n",
    "  for number in factors:\n",
    "    if number==2 or  number==5 or  number==7 or  number==3:\n",
    "      sum =  number+sum\n",
    "    elif  number==1 or  number%2==0 or  number%3==0 or  number%4==0 or  number%5==0 or  number%7==0:\n",
    "      sum=sum\n",
    "    else:\n",
    "      sum =  number+sum\n",
    "  return(sum)\n",
    "print(sum_of_prime_factors(24))"
   ]
  },
  {
   "cell_type": "code",
   "execution_count": 17,
   "id": "eea4dee8-21cf-4470-ad3a-100da43cdef7",
   "metadata": {},
   "outputs": [
    {
     "name": "stdout",
     "output_type": "stream",
     "text": [
      "[2, 3, 5, 7, 11]\n"
     ]
    }
   ],
   "source": [
    "def prime_finder(n):\n",
    "  num_list=[]\n",
    "  i=0\n",
    "  while i<n:\n",
    "    i+=1\n",
    "    if i==2 or i==5 or i==7 or i==3:\n",
    "      num_list.append(i)\n",
    "    elif i==1 or i%2==0 or i%3==0 or i%4==0 or i%5==0 or i%7==0:\n",
    "      num_list=num_list\n",
    "    else:\n",
    "      num_list.append(i)\n",
    "  return(num_list)\n",
    "print(prime_finder(11))"
   ]
  },
  {
   "cell_type": "code",
   "execution_count": 18,
   "id": "93c3788d-4ead-40d3-8bb1-6bcd590dad56",
   "metadata": {},
   "outputs": [
    {
     "name": "stdout",
     "output_type": "stream",
     "text": [
      "3\n"
     ]
    }
   ],
   "source": [
    "def getX(x, nums):\n",
    "  nums.sort()\n",
    "  if len(nums)<x or len(nums)==0:\n",
    "    return 0\n",
    "  else:\n",
    "    return(nums[x-1])# write your code here\n",
    "print(getX(2, [6, 3, -1, 5]))"
   ]
  },
  {
   "cell_type": "code",
   "execution_count": null,
   "id": "640d2e5b-b94f-4734-ab19-36ec5ecb1008",
   "metadata": {},
   "outputs": [],
   "source": []
  }
 ],
 "metadata": {
  "kernelspec": {
   "display_name": "Python 3 (ipykernel)",
   "language": "python",
   "name": "python3"
  },
  "language_info": {
   "codemirror_mode": {
    "name": "ipython",
    "version": 3
   },
   "file_extension": ".py",
   "mimetype": "text/x-python",
   "name": "python",
   "nbconvert_exporter": "python",
   "pygments_lexer": "ipython3",
   "version": "3.9.12"
  }
 },
 "nbformat": 4,
 "nbformat_minor": 5
}
